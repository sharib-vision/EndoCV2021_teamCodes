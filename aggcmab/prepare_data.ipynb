{
 "cells": [
  {
   "cell_type": "code",
   "execution_count": 50,
   "metadata": {},
   "outputs": [],
   "source": [
    "# from torchvision.transforms import Resize\n",
    "# rsz = Resize((512,640), interpolation=Image.BILINEAR)\n",
    "# rsz_bin = Resize((512,640), interpolation=Image.NEAREST)"
   ]
  },
  {
   "cell_type": "code",
   "execution_count": 51,
   "metadata": {},
   "outputs": [],
   "source": [
    "# !mv 'data/trainData_EndoCV2021_21_Feb2021-V2/data_C3/images_C3/C3_EndoCV2021_00489].jpg' 'data/trainData_EndoCV2021_21_Feb2021-V2/data_C3/images_C3/C3_EndoCV2021_00489.jpg'"
   ]
  },
  {
   "cell_type": "code",
   "execution_count": 52,
   "metadata": {},
   "outputs": [],
   "source": [
    "import os\n",
    "import os.path as osp\n",
    "import pandas as pd\n",
    "from PIL import Image\n",
    "import numpy as np"
   ]
  },
  {
   "cell_type": "code",
   "execution_count": 53,
   "metadata": {},
   "outputs": [],
   "source": [
    "im_dir = 'data/trainData_EndoCV2021_21_Feb2021-V2/'"
   ]
  },
  {
   "cell_type": "code",
   "execution_count": 54,
   "metadata": {},
   "outputs": [
    {
     "name": "stdout",
     "output_type": "stream",
     "text": [
      "data_C1 data/trainData_EndoCV2021_21_Feb2021-V2/data_C1 images_C1 masks_C1\n",
      "data_C2 data/trainData_EndoCV2021_21_Feb2021-V2/data_C2 images_C2 masks_C2\n",
      "data_C3 data/trainData_EndoCV2021_21_Feb2021-V2/data_C3 images_C3 masks_C3\n",
      "data_C4 data/trainData_EndoCV2021_21_Feb2021-V2/data_C4 images_C4 masks_C4\n",
      "data_C5 data/trainData_EndoCV2021_21_Feb2021-V2/data_C5 images_C5 masks_C5\n"
     ]
    }
   ],
   "source": [
    "im_list_all = []\n",
    "mask_list_all = []\n",
    "center_list_all = []\n",
    "for root, centers, files in os.walk(im_dir):\n",
    "    for center in sorted(centers): \n",
    "        if 'sequence' in center: continue\n",
    "        center_path = osp.join(im_dir, center)\n",
    "        im_fold = center.replace('data', 'images')\n",
    "        mask_fold = center.replace('data', 'masks')\n",
    "        im_path = osp.join(center_path, im_fold)\n",
    "        mask_path =  osp.join(center_path, mask_fold)\n",
    "        im_list = sorted(os.listdir(im_path))\n",
    "        mask_list = [n.replace('images', 'masks').replace('.jpg', '_mask.jpg') for n in im_list]\n",
    "        im_list = [osp.join(im_path, n) for n in im_list]\n",
    "        mask_list = [osp.join(mask_path, n) for n in mask_list]\n",
    "        im_list_all.extend(im_list)\n",
    "        mask_list_all.extend(mask_list)\n",
    "        center_nr = int(center[-1])\n",
    "        center_list_all.extend(len(im_list)*[center_nr])\n",
    "        print(center, center_path, im_fold, mask_fold)\n",
    "    break"
   ]
  },
  {
   "cell_type": "code",
   "execution_count": 55,
   "metadata": {},
   "outputs": [
    {
     "name": "stdout",
     "output_type": "stream",
     "text": [
      "data_C1 data/trainData_EndoCV2021_21_Feb2021-V2/data_C1 images_C1 masks_C1\n",
      "data_C2 data/trainData_EndoCV2021_21_Feb2021-V2/data_C2 images_C2 masks_C2\n",
      "data_C3 data/trainData_EndoCV2021_21_Feb2021-V2/data_C3 images_C3 masks_C3\n",
      "data_C4 data/trainData_EndoCV2021_21_Feb2021-V2/data_C4 images_C4 masks_C4\n",
      "data_C5 data/trainData_EndoCV2021_21_Feb2021-V2/data_C5 images_C5 masks_C5\n"
     ]
    }
   ],
   "source": [
    "im_list_all = []\n",
    "mask_list_all = []\n",
    "center_list_all = []\n",
    "for root, centers, files in os.walk(im_dir):\n",
    "    for center in sorted(centers):\n",
    "        if 'sequence' in center: continue\n",
    "        center_path = osp.join(im_dir, center)\n",
    "        im_fold = center.replace('data', 'images')\n",
    "        mask_fold = center.replace('data', 'masks')\n",
    "        im_path = osp.join(center_path, im_fold)\n",
    "        mask_path =  osp.join(center_path, mask_fold)\n",
    "        im_list = sorted(os.listdir(im_path))\n",
    "        mask_list = [n.replace('images', 'masks').replace('.jpg', '_mask.jpg') for n in im_list]\n",
    "        im_list = [osp.join(im_path, n) for n in im_list]\n",
    "        mask_list = [osp.join(mask_path, n) for n in mask_list]\n",
    "        im_list_all.extend(im_list)\n",
    "        mask_list_all.extend(mask_list)\n",
    "        center_nr = int(center[-1])\n",
    "        center_list_all.extend(len(im_list)*[center_nr])\n",
    "        print(center, center_path, im_fold, mask_fold)\n",
    "    break"
   ]
  },
  {
   "cell_type": "code",
   "execution_count": 56,
   "metadata": {},
   "outputs": [
    {
     "data": {
      "text/plain": [
       "1449"
      ]
     },
     "execution_count": 56,
     "metadata": {},
     "output_type": "execute_result"
    }
   ],
   "source": [
    "len(im_list_all)"
   ]
  },
  {
   "cell_type": "code",
   "execution_count": 57,
   "metadata": {},
   "outputs": [],
   "source": [
    "pos_seq_dir = 'data/trainData_EndoCV2021_21_Feb2021-V2/sequenceData/positive/'"
   ]
  },
  {
   "cell_type": "code",
   "execution_count": 58,
   "metadata": {},
   "outputs": [],
   "source": [
    "for seq in os.listdir(pos_seq_dir):\n",
    "    if osp.isdir(osp.join(pos_seq_dir, seq)):\n",
    "        im_list = sorted(os.listdir(osp.join(pos_seq_dir, seq, 'images')))\n",
    "        im_list = [osp.join(pos_seq_dir, seq, 'images', n) for n in im_list]\n",
    "        mask_list = [n.replace('images', 'masks').replace('.jpg', '_mask.jpg') for n in im_list]\n",
    "\n",
    "        im_list = im_list[::7]\n",
    "        mask_list = mask_list[::7]\n",
    "\n",
    "        seq_nr = int(seq.replace('seq', ''))\n",
    "        im_list_all.extend(im_list)\n",
    "        mask_list_all.extend(im_list)\n",
    "        center_list_all.extend(len(im_list)*[6])\n",
    "#         print(seq_nr, len(im_list), len(mask_list))"
   ]
  },
  {
   "cell_type": "code",
   "execution_count": 59,
   "metadata": {},
   "outputs": [
    {
     "data": {
      "text/plain": [
       "1711"
      ]
     },
     "execution_count": 59,
     "metadata": {},
     "output_type": "execute_result"
    }
   ],
   "source": [
    "len(im_list_all)"
   ]
  },
  {
   "cell_type": "code",
   "execution_count": 60,
   "metadata": {},
   "outputs": [],
   "source": [
    "neg_seq_dir = 'data/trainData_EndoCV2021_21_Feb2021-V2/sequenceData/negativeOnly/'"
   ]
  },
  {
   "cell_type": "code",
   "execution_count": 61,
   "metadata": {},
   "outputs": [
    {
     "name": "stdout",
     "output_type": "stream",
     "text": [
      "8 45 45\n",
      "6 13 13\n",
      "1 45 45\n",
      "5 9 9\n",
      "4 11 11\n",
      "9 15 15\n",
      "10 42 42\n",
      "7 30 30\n",
      "3 6 6\n",
      "2 44 44\n"
     ]
    }
   ],
   "source": [
    "seq_ims = []\n",
    "seq_masks = []\n",
    "for seq in os.listdir(neg_seq_dir):\n",
    "    if osp.isdir(osp.join(neg_seq_dir, seq)):\n",
    "        im_list = sorted(os.listdir(osp.join(neg_seq_dir, seq)))\n",
    "        im_list = [osp.join(neg_seq_dir, seq, n) for n in im_list]\n",
    "        mask_list = [n.replace('.jpg', '_mask.jpg') for n in im_list]\n",
    "\n",
    "        im_list = im_list[::7]\n",
    "        mask_list = mask_list[::7]\n",
    "        seq_nr = int(seq.replace('seq', '').replace('_neg', ''))\n",
    "\n",
    "        seq_ims.extend(im_list)\n",
    "        seq_masks.extend(mask_list)\n",
    "\n",
    "        center_list_all.extend(len(im_list)*[7])\n",
    "        print(seq_nr, len(im_list), len(mask_list))"
   ]
  },
  {
   "cell_type": "code",
   "execution_count": 62,
   "metadata": {},
   "outputs": [
    {
     "data": {
      "text/plain": [
       "(260, 1711, 1971)"
      ]
     },
     "execution_count": 62,
     "metadata": {},
     "output_type": "execute_result"
    }
   ],
   "source": [
    "len(seq_ims), len(im_list_all), len(center_list_all)"
   ]
  },
  {
   "cell_type": "code",
   "execution_count": 63,
   "metadata": {},
   "outputs": [],
   "source": [
    "im_path_out = 'data/images'\n",
    "mask_path_out = 'data/masks'"
   ]
  },
  {
   "cell_type": "code",
   "execution_count": 64,
   "metadata": {},
   "outputs": [],
   "source": [
    "im_list_all_final, mask_list_all_final = [], []\n",
    "for i in range(len(im_list_all)):\n",
    "    im_name_in = im_list_all[i]\n",
    "    mask_name_in = mask_list_all[i]\n",
    "    \n",
    "    im_in = Image.open(im_name_in)\n",
    "    mask_in = Image.open(mask_name_in)\n",
    "    \n",
    "    im_name_out = osp.join(im_path_out, im_name_in.split('/')[-1])\n",
    "    mask_name_out = osp.join(mask_path_out, mask_name_in.split('/')[-1])\n",
    "    \n",
    "    # resize\n",
    "#     rsz(im_in).save(im_name_out)\n",
    "#     rsz_bin(mask_in).save(mask_name_out)\n",
    "    \n",
    "    im_list_all_final.append(im_name_out)\n",
    "    mask_list_all_final.append(mask_name_out)"
   ]
  },
  {
   "cell_type": "code",
   "execution_count": 65,
   "metadata": {},
   "outputs": [
    {
     "data": {
      "text/plain": [
       "(1711, 1711)"
      ]
     },
     "execution_count": 65,
     "metadata": {},
     "output_type": "execute_result"
    }
   ],
   "source": [
    "len(im_list_all_final), len(mask_list_all_final)"
   ]
  },
  {
   "cell_type": "code",
   "execution_count": 66,
   "metadata": {},
   "outputs": [
    {
     "data": {
      "text/plain": [
       "('data/images/C3_EndoCV2021_0085.jpg',\n",
       " 'data/masks/C3_EndoCV2021_0085_mask.jpg')"
      ]
     },
     "execution_count": 66,
     "metadata": {},
     "output_type": "execute_result"
    }
   ],
   "source": [
    "im_list_all_final[1000], mask_list_all_final[1000]"
   ]
  },
  {
   "cell_type": "code",
   "execution_count": 67,
   "metadata": {},
   "outputs": [
    {
     "data": {
      "text/plain": [
       "('data/images/3_endocv2021_positive_972.jpg',\n",
       " 'data/masks/3_endocv2021_positive_972.jpg')"
      ]
     },
     "execution_count": 67,
     "metadata": {},
     "output_type": "execute_result"
    }
   ],
   "source": [
    "im_list_all_final[-1], mask_list_all_final[-1]"
   ]
  },
  {
   "cell_type": "code",
   "execution_count": 70,
   "metadata": {},
   "outputs": [],
   "source": [
    "for i in range(len(seq_ims)):\n",
    "    im_name_in = seq_ims[i]\n",
    "    mask_name_in = seq_masks[i]\n",
    "\n",
    "    \n",
    "    im_in = Image.open(im_name_in)\n",
    "    im_in_sz = np.array(im_in).shape[:-1]\n",
    "    mask_in = Image.new(mode='L', size=(im_in_sz[1], im_in_sz[0]))\n",
    "\n",
    "    im_name_out = osp.join(im_path_out, im_name_in.split('/')[-1])\n",
    "    mask_name_out = osp.join(mask_path_out, mask_name_in.split('/')[-1])\n",
    "    \n",
    "    # resize\n",
    "#     rsz(im_in).save(im_name_out)\n",
    "#     rsz_bin(mask_in).save(mask_name_out)\n",
    "    \n",
    "    im_list_all_final.append(im_name_out)\n",
    "    mask_list_all_final.append(mask_name_out)"
   ]
  },
  {
   "cell_type": "code",
   "execution_count": 71,
   "metadata": {},
   "outputs": [
    {
     "data": {
      "text/plain": [
       "('data/images/EndoCV2021_seq2_neg_48_endocv2021_negative_994.jpg',\n",
       " 'data/masks/EndoCV2021_seq2_neg_48_endocv2021_negative_994_mask.jpg')"
      ]
     },
     "execution_count": 71,
     "metadata": {},
     "output_type": "execute_result"
    }
   ],
   "source": [
    "im_list_all_final[-1], mask_list_all_final[-1]"
   ]
  },
  {
   "cell_type": "code",
   "execution_count": 72,
   "metadata": {},
   "outputs": [
    {
     "data": {
      "text/plain": [
       "(1971, 1971, 1971)"
      ]
     },
     "execution_count": 72,
     "metadata": {},
     "output_type": "execute_result"
    }
   ],
   "source": [
    "len(im_list_all_final), len(mask_list_all_final), len(center_list_all)"
   ]
  },
  {
   "cell_type": "code",
   "execution_count": 73,
   "metadata": {},
   "outputs": [],
   "source": [
    "data_tuples = list(zip(im_list_all_final,mask_list_all_final,center_list_all))"
   ]
  },
  {
   "cell_type": "code",
   "execution_count": 74,
   "metadata": {},
   "outputs": [
    {
     "data": {
      "text/plain": [
       "(1971, 3)"
      ]
     },
     "execution_count": 74,
     "metadata": {},
     "output_type": "execute_result"
    }
   ],
   "source": [
    "df_all = pd.DataFrame(data_tuples, columns=['image_path','mask_path','center'])\n",
    "df_all.shape"
   ]
  },
  {
   "cell_type": "code",
   "execution_count": 75,
   "metadata": {},
   "outputs": [
    {
     "data": {
      "text/html": [
       "<div>\n",
       "<style scoped>\n",
       "    .dataframe tbody tr th:only-of-type {\n",
       "        vertical-align: middle;\n",
       "    }\n",
       "\n",
       "    .dataframe tbody tr th {\n",
       "        vertical-align: top;\n",
       "    }\n",
       "\n",
       "    .dataframe thead th {\n",
       "        text-align: right;\n",
       "    }\n",
       "</style>\n",
       "<table border=\"1\" class=\"dataframe\">\n",
       "  <thead>\n",
       "    <tr style=\"text-align: right;\">\n",
       "      <th></th>\n",
       "      <th>image_path</th>\n",
       "      <th>mask_path</th>\n",
       "      <th>center</th>\n",
       "    </tr>\n",
       "  </thead>\n",
       "  <tbody>\n",
       "    <tr>\n",
       "      <th>0</th>\n",
       "      <td>data/images/100H0050.jpg</td>\n",
       "      <td>data/masks/100H0050_mask.jpg</td>\n",
       "      <td>1</td>\n",
       "    </tr>\n",
       "    <tr>\n",
       "      <th>1</th>\n",
       "      <td>data/images/100S0001.jpg</td>\n",
       "      <td>data/masks/100S0001_mask.jpg</td>\n",
       "      <td>1</td>\n",
       "    </tr>\n",
       "    <tr>\n",
       "      <th>2</th>\n",
       "      <td>data/images/100S0003.jpg</td>\n",
       "      <td>data/masks/100S0003_mask.jpg</td>\n",
       "      <td>1</td>\n",
       "    </tr>\n",
       "    <tr>\n",
       "      <th>3</th>\n",
       "      <td>data/images/102OLCV1_100H0006.jpg</td>\n",
       "      <td>data/masks/102OLCV1_100H0006_mask.jpg</td>\n",
       "      <td>1</td>\n",
       "    </tr>\n",
       "    <tr>\n",
       "      <th>4</th>\n",
       "      <td>data/images/104OLCV1_100H0002.jpg</td>\n",
       "      <td>data/masks/104OLCV1_100H0002_mask.jpg</td>\n",
       "      <td>1</td>\n",
       "    </tr>\n",
       "  </tbody>\n",
       "</table>\n",
       "</div>"
      ],
      "text/plain": [
       "                          image_path                              mask_path  \\\n",
       "0           data/images/100H0050.jpg           data/masks/100H0050_mask.jpg   \n",
       "1           data/images/100S0001.jpg           data/masks/100S0001_mask.jpg   \n",
       "2           data/images/100S0003.jpg           data/masks/100S0003_mask.jpg   \n",
       "3  data/images/102OLCV1_100H0006.jpg  data/masks/102OLCV1_100H0006_mask.jpg   \n",
       "4  data/images/104OLCV1_100H0002.jpg  data/masks/104OLCV1_100H0002_mask.jpg   \n",
       "\n",
       "   center  \n",
       "0       1  \n",
       "1       1  \n",
       "2       1  \n",
       "3       1  \n",
       "4       1  "
      ]
     },
     "execution_count": 75,
     "metadata": {},
     "output_type": "execute_result"
    }
   ],
   "source": [
    "df_all.head()"
   ]
  },
  {
   "cell_type": "code",
   "execution_count": 76,
   "metadata": {},
   "outputs": [
    {
     "data": {
      "text/html": [
       "<div>\n",
       "<style scoped>\n",
       "    .dataframe tbody tr th:only-of-type {\n",
       "        vertical-align: middle;\n",
       "    }\n",
       "\n",
       "    .dataframe tbody tr th {\n",
       "        vertical-align: top;\n",
       "    }\n",
       "\n",
       "    .dataframe thead th {\n",
       "        text-align: right;\n",
       "    }\n",
       "</style>\n",
       "<table border=\"1\" class=\"dataframe\">\n",
       "  <thead>\n",
       "    <tr style=\"text-align: right;\">\n",
       "      <th></th>\n",
       "      <th>image_path</th>\n",
       "      <th>mask_path</th>\n",
       "    </tr>\n",
       "    <tr>\n",
       "      <th>center</th>\n",
       "      <th></th>\n",
       "      <th></th>\n",
       "    </tr>\n",
       "  </thead>\n",
       "  <tbody>\n",
       "    <tr>\n",
       "      <th>1</th>\n",
       "      <td>256</td>\n",
       "      <td>256</td>\n",
       "    </tr>\n",
       "    <tr>\n",
       "      <th>2</th>\n",
       "      <td>301</td>\n",
       "      <td>301</td>\n",
       "    </tr>\n",
       "    <tr>\n",
       "      <th>3</th>\n",
       "      <td>457</td>\n",
       "      <td>457</td>\n",
       "    </tr>\n",
       "    <tr>\n",
       "      <th>4</th>\n",
       "      <td>227</td>\n",
       "      <td>227</td>\n",
       "    </tr>\n",
       "    <tr>\n",
       "      <th>5</th>\n",
       "      <td>208</td>\n",
       "      <td>208</td>\n",
       "    </tr>\n",
       "    <tr>\n",
       "      <th>6</th>\n",
       "      <td>262</td>\n",
       "      <td>262</td>\n",
       "    </tr>\n",
       "    <tr>\n",
       "      <th>7</th>\n",
       "      <td>260</td>\n",
       "      <td>260</td>\n",
       "    </tr>\n",
       "  </tbody>\n",
       "</table>\n",
       "</div>"
      ],
      "text/plain": [
       "        image_path  mask_path\n",
       "center                       \n",
       "1              256        256\n",
       "2              301        301\n",
       "3              457        457\n",
       "4              227        227\n",
       "5              208        208\n",
       "6              262        262\n",
       "7              260        260"
      ]
     },
     "execution_count": 76,
     "metadata": {},
     "output_type": "execute_result"
    }
   ],
   "source": [
    "df_all.groupby('center').nunique()"
   ]
  },
  {
   "cell_type": "code",
   "execution_count": 24,
   "metadata": {},
   "outputs": [],
   "source": [
    "from sklearn.model_selection import train_test_split\n",
    "\n",
    "num_ims = len(im_list_all_final)\n",
    "# df_train, df_val = train_test_split(df_train, test_size=num_ims//5, random_state=0, stratify=df_all.center)"
   ]
  },
  {
   "cell_type": "code",
   "execution_count": 25,
   "metadata": {},
   "outputs": [],
   "source": [
    "df_train, df_val = train_test_split(df_all, test_size=num_ims//20, random_state=0, stratify=df_all.center)\n",
    "df_train.to_csv('train_20.csv', index=None)\n",
    "df_val.to_csv('data/val_20.csv', index=None)"
   ]
  },
  {
   "cell_type": "code",
   "execution_count": null,
   "metadata": {},
   "outputs": [],
   "source": [
    "df_train.groupby('center').nunique()"
   ]
  },
  {
   "cell_type": "code",
   "execution_count": null,
   "metadata": {},
   "outputs": [],
   "source": [
    "df_val.groupby('center').nunique()"
   ]
  },
  {
   "cell_type": "code",
   "execution_count": null,
   "metadata": {},
   "outputs": [],
   "source": [
    "val_center1 = list(df_val[df_val.center==1].image_path)"
   ]
  },
  {
   "cell_type": "code",
   "execution_count": null,
   "metadata": {},
   "outputs": [],
   "source": [
    "in_dir = osp.join(im_dir, 'data_C1', val_center1[0])\n",
    "out_dir = osp.join('local_val_data', 'data_C1', val_center1[0].split('/')[-1])"
   ]
  },
  {
   "cell_type": "code",
   "execution_count": null,
   "metadata": {},
   "outputs": [],
   "source": [
    "import shutil"
   ]
  },
  {
   "cell_type": "code",
   "execution_count": null,
   "metadata": {},
   "outputs": [],
   "source": [
    "# in_dir = osp.join(im_dir, 'data_C1', 'images_C1/')\n",
    "# out_dir = osp.join('local_val_data', 'data_C1')\n",
    "# val_center1 = list(df_val[df_val.center==1].image_path)\n",
    "\n",
    "# for n in val_center1:\n",
    "#     src = osp.join(in_dir, n.split('/')[-1])\n",
    "#     dst = osp.join(out_dir, n.split('/')[-1])   \n",
    "#     shutil.copyfile(src, dst)"
   ]
  },
  {
   "cell_type": "code",
   "execution_count": null,
   "metadata": {},
   "outputs": [],
   "source": [
    "# in_dir = osp.join(im_dir, 'data_C2', 'images_C2/')\n",
    "# out_dir = osp.join('local_val_data', 'data_C2')\n",
    "# val_center2 = list(df_val[df_val.center==2].image_path)\n",
    "\n",
    "# for n in val_center2:\n",
    "#     src = osp.join(in_dir, n.split('/')[-1])\n",
    "#     dst = osp.join(out_dir, n.split('/')[-1])   \n",
    "#     shutil.copyfile(src, dst)"
   ]
  },
  {
   "cell_type": "code",
   "execution_count": null,
   "metadata": {},
   "outputs": [],
   "source": [
    "# in_dir = osp.join(im_dir, 'data_C3', 'images_C3/')\n",
    "# out_dir = osp.join('local_val_data', 'data_C3')\n",
    "# val_center3 = list(df_val[df_val.center==3].image_path)\n",
    "\n",
    "# for n in val_center3:\n",
    "#     src = osp.join(in_dir, n.split('/')[-1])\n",
    "#     dst = osp.join(out_dir, n.split('/')[-1])   \n",
    "#     shutil.copyfile(src, dst)"
   ]
  },
  {
   "cell_type": "code",
   "execution_count": null,
   "metadata": {},
   "outputs": [],
   "source": [
    "# in_dir = osp.join(im_dir, 'data_C4', 'images_C4/')\n",
    "# out_dir = osp.join('local_val_data', 'data_C4')\n",
    "# val_center4 = list(df_val[df_val.center==4].image_path)\n",
    "\n",
    "# for n in val_center4:\n",
    "#     src = osp.join(in_dir, n.split('/')[-1])\n",
    "#     dst = osp.join(out_dir, n.split('/')[-1])   \n",
    "#     shutil.copyfile(src, dst)"
   ]
  },
  {
   "cell_type": "code",
   "execution_count": null,
   "metadata": {},
   "outputs": [],
   "source": [
    "# in_dir = osp.join(im_dir, 'data_C5', 'images_C5/')\n",
    "# out_dir = osp.join('local_val_data', 'data_C5')\n",
    "# val_center5 = list(df_val[df_val.center==5].image_path)\n",
    "\n",
    "# for n in val_center5:\n",
    "#     src = osp.join(in_dir, n.split('/')[-1])\n",
    "#     dst = osp.join(out_dir, n.split('/')[-1]) \n",
    "#     shutil.copyfile(src, dst)"
   ]
  },
  {
   "cell_type": "code",
   "execution_count": null,
   "metadata": {},
   "outputs": [],
   "source": [
    "meh, df_val1 = train_test_split(df_all, test_size=num_ims//4, random_state=0, stratify=df_all.center)\n",
    "meh, df_val2 = train_test_split(meh,    test_size=num_ims//4, random_state=0, stratify=meh.center)\n",
    "df_val4, df_val3 = train_test_split(meh,    test_size=num_ims//4, random_state=0, stratify=meh.center)"
   ]
  },
  {
   "cell_type": "code",
   "execution_count": null,
   "metadata": {},
   "outputs": [],
   "source": [
    "df_train1 = pd.concat([df_val2,df_val3,df_val4], axis=0)\n",
    "df_train2 = pd.concat([df_val1,df_val3,df_val4], axis=0)\n",
    "df_train3 = pd.concat([df_val1,df_val2,df_val4], axis=0)\n",
    "df_train4 = pd.concat([df_val1,df_val2,df_val3], axis=0)"
   ]
  },
  {
   "cell_type": "code",
   "execution_count": null,
   "metadata": {},
   "outputs": [],
   "source": [
    "df_train1.shape, df_val1.shape"
   ]
  },
  {
   "cell_type": "code",
   "execution_count": null,
   "metadata": {},
   "outputs": [],
   "source": [
    "df_val1.groupby('center').nunique()"
   ]
  },
  {
   "cell_type": "code",
   "execution_count": null,
   "metadata": {},
   "outputs": [],
   "source": [
    "df_train1.to_csv('data/train_1.csv', index=None)\n",
    "df_val1.to_csv('data/val_1.csv', index=None)\n",
    "\n",
    "df_train2.to_csv('data/train_2.csv', index=None)\n",
    "df_val2.to_csv('data/val_2.csv', index=None)\n",
    "\n",
    "df_train3.to_csv('data/train_3.csv', index=None)\n",
    "df_val3.to_csv('data/val_3.csv', index=None)\n",
    "\n",
    "df_train4.to_csv('data/train_4.csv', index=None)\n",
    "df_val4.to_csv('data/val_4.csv', index=None)"
   ]
  }
 ],
 "metadata": {
  "kernelspec": {
   "display_name": "vessels",
   "language": "python",
   "name": "build_central"
  },
  "language_info": {
   "codemirror_mode": {
    "name": "ipython",
    "version": 3
   },
   "file_extension": ".py",
   "mimetype": "text/x-python",
   "name": "python",
   "nbconvert_exporter": "python",
   "pygments_lexer": "ipython3",
   "version": "3.7.9"
  }
 },
 "nbformat": 4,
 "nbformat_minor": 4
}
